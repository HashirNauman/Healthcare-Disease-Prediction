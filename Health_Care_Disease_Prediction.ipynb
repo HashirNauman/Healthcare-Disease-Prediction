{
  "nbformat": 4,
  "nbformat_minor": 0,
  "metadata": {
    "colab": {
      "provenance": [],
      "authorship_tag": "ABX9TyOKMmaWYVfr3Cs7Lk/4FXKR",
      "include_colab_link": true
    },
    "kernelspec": {
      "name": "python3",
      "display_name": "Python 3"
    },
    "language_info": {
      "name": "python"
    }
  },
  "cells": [
    {
      "cell_type": "markdown",
      "metadata": {
        "id": "view-in-github",
        "colab_type": "text"
      },
      "source": [
        "<a href=\"https://colab.research.google.com/github/HashirNauman/Healthcare-Disease-Prediction/blob/main/Health_Care_Disease_Prediction.ipynb\" target=\"_parent\"><img src=\"https://colab.research.google.com/assets/colab-badge.svg\" alt=\"Open In Colab\"/></a>"
      ]
    },
    {
      "cell_type": "code",
      "execution_count": null,
      "metadata": {
        "colab": {
          "base_uri": "https://localhost:8080/"
        },
        "id": "pLjGAfpMQmab",
        "outputId": "9c8b05e2-d965-48fa-d0cf-548d07a91852"
      },
      "outputs": [
        {
          "output_type": "stream",
          "name": "stdout",
          "text": [
            "Requirement already satisfied: pandas in /usr/local/lib/python3.11/dist-packages (2.2.2)\n",
            "Requirement already satisfied: numpy in /usr/local/lib/python3.11/dist-packages (2.0.2)\n",
            "Requirement already satisfied: scikit-learn in /usr/local/lib/python3.11/dist-packages (1.6.1)\n",
            "Requirement already satisfied: joblib in /usr/local/lib/python3.11/dist-packages (1.5.0)\n",
            "Requirement already satisfied: python-dateutil>=2.8.2 in /usr/local/lib/python3.11/dist-packages (from pandas) (2.9.0.post0)\n",
            "Requirement already satisfied: pytz>=2020.1 in /usr/local/lib/python3.11/dist-packages (from pandas) (2025.2)\n",
            "Requirement already satisfied: tzdata>=2022.7 in /usr/local/lib/python3.11/dist-packages (from pandas) (2025.2)\n",
            "Requirement already satisfied: scipy>=1.6.0 in /usr/local/lib/python3.11/dist-packages (from scikit-learn) (1.15.3)\n",
            "Requirement already satisfied: threadpoolctl>=3.1.0 in /usr/local/lib/python3.11/dist-packages (from scikit-learn) (3.6.0)\n",
            "Requirement already satisfied: six>=1.5 in /usr/local/lib/python3.11/dist-packages (from python-dateutil>=2.8.2->pandas) (1.17.0)\n"
          ]
        }
      ],
      "source": [
        "#requirements\n",
        "!pip install pandas numpy scikit-learn joblib"
      ]
    },
    {
      "cell_type": "code",
      "source": [
        "import os\n",
        "import pandas as pd\n",
        "import numpy as np\n",
        "import matplotlib.pyplot as plt\n",
        "import seaborn as sns\n",
        "from sklearn.model_selection import train_test_split, GridSearchCV\n",
        "from sklearn.ensemble import RandomForestClassifier\n",
        "from sklearn.preprocessing import StandardScaler, LabelEncoder\n",
        "from sklearn.metrics import accuracy_score, classification_report, confusion_matrix\n",
        "import joblib\n",
        "\n",
        "# Constants\n",
        "DATA_URL = \"https://archive.ics.uci.edu/ml/machine-learning-databases/heart-disease/processed.cleveland.data\"\n",
        "COLUMN_NAMES = [\n",
        "    \"age\", \"sex\", \"cp\", \"trestbps\", \"chol\", \"fbs\", \"restecg\", \"thalach\",\n",
        "    \"exang\", \"oldpeak\", \"slope\", \"ca\", \"thal\", \"target\"\n",
        "]\n",
        "CATEGORICAL_COLS = [\"sex\", \"cp\", \"fbs\", \"restecg\", \"exang\", \"slope\", \"ca\", \"thal\"]\n",
        "NUMERICAL_COLS = [\"age\", \"trestbps\", \"chol\", \"thalach\", \"oldpeak\"]\n",
        "\n",
        "\n",
        "def load_data():\n",
        "    \"\"\"Load the Heart Disease UCI dataset from the URL.\"\"\"\n",
        "    df = pd.read_csv(DATA_URL, names=COLUMN_NAMES, na_values=\"?\")\n",
        "    df.dropna(inplace=True)\n",
        "    return df\n",
        "\n",
        "\n",
        "def preprocess_data(df):\n",
        "    \"\"\"Encode categorical variables and scale numerical features; binarize target.\"\"\"\n",
        "    le = LabelEncoder()\n",
        "    for col in CATEGORICAL_COLS:\n",
        "        df[col] = le.fit_transform(df[col].astype(str))\n",
        "\n",
        "    scaler = StandardScaler()\n",
        "    df[NUMERICAL_COLS] = scaler.fit_transform(df[NUMERICAL_COLS])\n",
        "\n",
        "    df[\"target\"] = df[\"target\"].apply(lambda x: 1 if x > 0 else 0)\n",
        "    return df\n",
        "\n",
        "\n",
        "def build_model():\n",
        "    \"\"\"Return a RandomForestClassifier instance.\"\"\"\n",
        "    return RandomForestClassifier(random_state=42)\n",
        "\n",
        "\n",
        "def tune_hyperparameters(model, X_train, y_train):\n",
        "    \"\"\"Use GridSearchCV to find the best RF hyperparameters.\"\"\"\n",
        "    param_grid = {\n",
        "        \"n_estimators\": [100, 200],\n",
        "        \"max_depth\": [None, 10, 20],\n",
        "        \"min_samples_split\": [2, 5]\n",
        "    }\n",
        "    grid = GridSearchCV(model, param_grid, cv=5, scoring=\"accuracy\", n_jobs=-1)\n",
        "    grid.fit(X_train, y_train)\n",
        "    print(\"Best hyperparameters:\", grid.best_params_)\n",
        "    return grid.best_estimator_, grid.cv_results_\n",
        "\n",
        "\n",
        "def main():\n",
        "    df = load_data()\n",
        "    df = preprocess_data(df)\n",
        "\n",
        "    X = df.drop(\"target\", axis=1)\n",
        "    y = df[\"target\"]\n",
        "    X_train, X_test, y_train, y_test = train_test_split(\n",
        "        X, y, test_size=0.2, random_state=42\n",
        "    )\n",
        "\n",
        "    model = build_model()\n",
        "    best_model, cv_results = tune_hyperparameters(model, X_train, y_train)\n",
        "\n",
        "    # Cross-validation performance summary\n",
        "    mean_scores = cv_results['mean_test_score']\n",
        "    params = cv_results['params']\n",
        "    summary = pd.DataFrame(params)\n",
        "    summary['mean_test_score'] = mean_scores\n",
        "    print(\"Grid Search Results:\\n\", summary.sort_values('mean_test_score', ascending=False).head())\n",
        "\n",
        "    # Train best model\n",
        "    best_model.fit(X_train, y_train)\n",
        "    y_pred = best_model.predict(X_test)\n",
        "\n",
        "    # Evaluation metrics\n",
        "    acc = accuracy_score(y_test, y_pred)\n",
        "    print(f\"Test Accuracy: {acc:.4f}\")\n",
        "    print(\"Classification Report:\\n\", classification_report(y_test, y_pred))\n",
        "\n",
        "    # Confusion matrix\n",
        "    cm = confusion_matrix(y_test, y_pred)\n",
        "    plt.figure(figsize=(6,5))\n",
        "    sns.heatmap(cm, annot=True, fmt='d', cmap='Blues')\n",
        "    plt.title('Confusion Matrix')\n",
        "    plt.xlabel('Predicted')\n",
        "    plt.ylabel('True')\n",
        "    plt.show()\n",
        "\n",
        "    # Save model\n",
        "    os.makedirs('models', exist_ok=True)\n",
        "    joblib.dump(best_model, os.path.join('models', 'heart_disease_model.pkl'))\n",
        "    print(\"Model saved to models/heart_disease_model.pkl\")\n",
        "\n",
        "if __name__ == '__main__':\n",
        "    main()\n"
      ],
      "metadata": {
        "colab": {
          "base_uri": "https://localhost:8080/",
          "height": 834
        },
        "id": "MaUVl-fPT0Ku",
        "outputId": "64df74b1-aba8-4942-b727-146890e4910e"
      },
      "execution_count": null,
      "outputs": [
        {
          "output_type": "stream",
          "name": "stdout",
          "text": [
            "Best hyperparameters: {'max_depth': 10, 'min_samples_split': 5, 'n_estimators': 200}\n",
            "Grid Search Results:\n",
            "     max_depth  min_samples_split  n_estimators  mean_test_score\n",
            "7        10.0                  5           200         0.809840\n",
            "1         NaN                  2           200         0.801418\n",
            "9        20.0                  2           200         0.801418\n",
            "3         NaN                  5           200         0.801330\n",
            "11       20.0                  5           200         0.801330\n",
            "Test Accuracy: 0.8833\n",
            "Classification Report:\n",
            "               precision    recall  f1-score   support\n",
            "\n",
            "           0       0.91      0.89      0.90        36\n",
            "           1       0.84      0.88      0.86        24\n",
            "\n",
            "    accuracy                           0.88        60\n",
            "   macro avg       0.88      0.88      0.88        60\n",
            "weighted avg       0.88      0.88      0.88        60\n",
            "\n"
          ]
        },
        {
          "output_type": "display_data",
          "data": {
            "text/plain": [
              "<Figure size 600x500 with 2 Axes>"
            ],
            "image/png": "[encoded data removed]"
          },
          "metadata": {}
        },
        {
          "output_type": "stream",
          "name": "stdout",
          "text": [
            "Model saved to models/heart_disease_model.pkl\n"
          ]
        }
      ]
    }
  ]
}